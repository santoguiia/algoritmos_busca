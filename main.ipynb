{
 "cells": [
  {
   "cell_type": "markdown",
   "metadata": {},
   "source": [
    "# Elevators Logic\n",
    "\n",
    "Este projeto tem como objetivo implementar algoritmos de busca em um cenário do problema da lógica dos elevadores. O problema consiste em encontrar uma sequência de ações que leve os elevadores a pararem em determinados andares, de acordo com um estado inicial e um estado objetivo.\n",
    "\n",
    "\n",
    "Esse projeto pode ser visualizado no repositório do <a href=\"https://github.com/santoguiia/elevators-logic\">GitHub</a>\n",
    "\n",
    "O objetivo principal consiste em abrir os cinco elevadores, cada um contendo uma pessoa, e liberá-las. No entanto, os elevadores só irão se abrir se todos estiverem estacionados em algum andar entre o 21 e o 25, no nível 1 do jogo, ou entre o 21 e o 23, no nível 2. No nível 1, os elevadores começam em andares diferentes: 17, 26, 20, 19 e 31. Já no nível 2, suas posições iniciais são: 20, 20, 22, 24 e 21.\n",
    "\n",
    "## Algoritmos Implementados\n",
    "\n",
    "Foram implementados os seguintes algoritmos de busca:\n",
    "\n",
    "- Busca em Largura (BFS): Explora todos os nós em um mesmo nível antes de avançar para o próximo nível.\n",
    "- Busca em Profundidade (DFS): Explora um ramo do grafo até encontrar um estado objetivo ou atingir um limite de profundidade.\n",
    "- Busca em Profundidade Iterativa (IDDFS): Combina a estratégia de busca em profundidade com a busca em largura, aumentando gradualmente o limite de profundidade.\n",
    "- Busca A*: Utiliza uma função heurística para estimar o custo do caminho até o estado objetivo, combinando o custo do caminho percorrido até o momento com a estimativa do custo restante."
   ]
  },
  {
   "cell_type": "markdown",
   "metadata": {},
   "source": [
    "_______"
   ]
  },
  {
   "cell_type": "markdown",
   "metadata": {},
   "source": [
    "## Estrutura do elevador"
   ]
  },
  {
   "cell_type": "code",
   "execution_count": 111,
   "metadata": {},
   "outputs": [],
   "source": [
    "from itertools import combinations\n",
    "\n",
    "def result(state, action):\n",
    "    new_state = list(state)\n",
    "    for i, a in enumerate(action):\n",
    "        new_state[i] = new_positions(state[i], a)\n",
    "    return tuple(new_state)\n",
    "\n",
    "def cost(state, action):\n",
    "    return 1\n",
    "\n",
    "def goal_test(state):\n",
    "    return is_goal(state)\n",
    "\n",
    "def path_cost(c, state1, action, state2):\n",
    "    return c + cost(state1, action)\n",
    "\n",
    "def h(node):\n",
    "    return heuristic(node.state)\n",
    "\n",
    "def is_valid(state):\n",
    "    return all(1 <= pos <= 49 for pos in state) and len(set(state)) == 5\n",
    "\n",
    "def new_positions(position, action):\n",
    "    new_position = position + action\n",
    "    if 1 <= new_position <= 49:\n",
    "        return new_position\n",
    "    return position\n",
    "\n",
    "def get_successors(state):\n",
    "    successors = []\n",
    "    actions = [(8, 8), (-13, -13), (8, -13), (-13, 8)]\n",
    "    for (e1, e2) in combinations(range(5), 2):\n",
    "        for action in actions:\n",
    "            new_state = list(state)\n",
    "            new_state[e1] = new_positions(state[e1], action[0])\n",
    "            new_state[e2] = new_positions(state[e2], action[1])\n",
    "            if new_state[e1] != state[e1] or new_state[e2] != state[e2]:\n",
    "                successors.append(tuple(new_state))\n",
    "    return successors\n",
    "\n",
    "def print_solution(solution):\n",
    "    for node in solution:\n",
    "        print(node.state)"
   ]
  },
  {
   "cell_type": "markdown",
   "metadata": {},
   "source": [
    "## Seleção de dificuldade"
   ]
  },
  {
   "cell_type": "markdown",
   "metadata": {},
   "source": [
    "### Escolha do Nível\n",
    "Selecione o nível que deseja que os algoritmos de busca tentem resolver. Os níveis correspondem aos diferentes cenários propostos no problema dos elevadores."
   ]
  },
  {
   "cell_type": "code",
   "execution_count": 80,
   "metadata": {},
   "outputs": [],
   "source": [
    "# level 1\n",
    "initial_state = (17, 26, 20, 19, 31)\n",
    "\n",
    "def is_goal(state):\n",
    "    return all(21 <= pos <= 25 for pos in state)\n"
   ]
  },
  {
   "cell_type": "code",
   "execution_count": 12,
   "metadata": {},
   "outputs": [],
   "source": [
    "# level 2\n",
    "initial_state = (20, 20, 22, 24, 21)\n",
    "\n",
    "def is_goal(state):\n",
    "    return all(21 <= pos <= 23 for pos in state)\n",
    "\n"
   ]
  },
  {
   "cell_type": "markdown",
   "metadata": {},
   "source": [
    "### Heuristica\n",
    "Selecione a Heuristica que deseja usar."
   ]
  },
  {
   "cell_type": "code",
   "execution_count": 144,
   "metadata": {},
   "outputs": [],
   "source": [
    "# Heuristica 1 - Distancia minima de cada posicao ate o target mais proximo\n",
    "def heuristic(state):\n",
    "    return sum(min(abs(pos - target) for target in range(21, 26)) for pos in state)"
   ]
  },
  {
   "cell_type": "code",
   "execution_count": 130,
   "metadata": {},
   "outputs": [],
   "source": [
    "# Heuristica 2 - Uso de energia\n",
    "def heuristic(state):\n",
    "    energy_cost_per_floor = 0.1  # Define o custo de energia por andar percorrido (em kWh)\n",
    "    target_floors = range(21, 26)  # Andares de destino possíveis\n",
    "\n",
    "    total_energy_cost = 0\n",
    "    for pos in state:\n",
    "        for target in target_floors:\n",
    "            total_energy_cost += abs(pos - target) * energy_cost_per_floor\n",
    "\n",
    "    return total_energy_cost"
   ]
  },
  {
   "cell_type": "code",
   "execution_count": 126,
   "metadata": {},
   "outputs": [],
   "source": [
    "# Heurística 3 - Eficiência de Uso dos Elevadores:\n",
    "def heuristic(state):\n",
    "    efficiency_score = 0\n",
    "    for floor in state:\n",
    "        efficiency_score += abs(floor - 25)  # Avalia a distância de cada elevador ao andar de destino mais frequente (25)\n",
    "    return efficiency_score\n"
   ]
  },
  {
   "cell_type": "markdown",
   "metadata": {},
   "source": [
    "## Algoritmos de Busca"
   ]
  },
  {
   "cell_type": "markdown",
   "metadata": {},
   "source": [
    "### Busca em Largura\n",
    "\n",
    "Na estratégia de busca em largura, após a expansão do nó raiz, todos os seus sucessores são explorados. Em seguida, os sucessores desses sucessores são considerados. O conceito-chave aqui é o uso de uma fronteira em forma de pilha, onde o primeiro elemento a entrar é o primeiro a sair. Uma analogia comum é a fila de um supermercado, onde as pessoas são atendidas na ordem em que chegaram."
   ]
  },
  {
   "cell_type": "code",
   "execution_count": 52,
   "metadata": {},
   "outputs": [
    {
     "data": {
      "text/plain": [
       "((25, 21, 23, 22, 21), 7)"
      ]
     },
     "execution_count": 52,
     "metadata": {},
     "output_type": "execute_result"
    }
   ],
   "source": [
    "from collections import deque\n",
    "\n",
    "def bfs_search(initial_state):\n",
    "    frontier = deque([(initial_state, 0)])\n",
    "    explored = set()\n",
    "\n",
    "    while frontier:\n",
    "        current_state, current_cost = frontier.popleft()\n",
    "\n",
    "        if is_goal(current_state):\n",
    "            return current_state, current_cost\n",
    "\n",
    "        if current_state not in explored:\n",
    "            explored.add(current_state)\n",
    "            successors = get_successors(current_state)\n",
    "\n",
    "            for state in successors:\n",
    "                if state not in explored:\n",
    "                    cost = current_cost + 1\n",
    "                    frontier.append((state, cost))\n",
    "\n",
    "    return None, None\n",
    "\n",
    "bfs_search(initial_state)"
   ]
  },
  {
   "cell_type": "markdown",
   "metadata": {},
   "source": [
    "### Busca em Profundidade\n",
    "Na Busca por Profundidade, o algoritmo inicia pela raiz do grafo e explora o primeiro sucessor encontrado. Ele então avança para o primeiro sucessor desse sucessor, continuando assim até alcançar o ponto mais profundo, onde não existem mais sucessores. Para isso, utiliza-se uma estrutura de dados conhecida como pilha, na qual o último elemento inserido é o primeiro a ser retirado. "
   ]
  },
  {
   "cell_type": "code",
   "execution_count": null,
   "metadata": {},
   "outputs": [],
   "source": [
    "def dfs_search(initial_state):\n",
    "    frontier = [(initial_state, 0)]\n",
    "    explored = set()\n",
    "\n",
    "    while frontier:\n",
    "        current_state, current_cost = frontier.pop()\n",
    "\n",
    "        if is_goal(current_state):\n",
    "            return current_state, current_cost\n",
    "\n",
    "        if current_state not in explored:\n",
    "            explored.add(current_state)\n",
    "            successors = get_successors(current_state)\n",
    "\n",
    "            # Reverse the successors to prioritize deeper exploration\n",
    "            successors.reverse()\n",
    "\n",
    "            for state in successors:\n",
    "                if state not in explored:\n",
    "                    cost = current_cost + 1  # Uniform cost\n",
    "                    frontier.append((state, cost))\n",
    "\n",
    "    return None, None  # No solution found\n",
    "\n",
    "dfs_search(initial_state)\n"
   ]
  },
  {
   "cell_type": "markdown",
   "metadata": {},
   "source": [
    "### Busca em profundidade iterativo\n",
    "Neste algoritmo, também é adotada uma abordagem com limite de profundidade. No entanto, a cada tentativa de resolver o problema sem sucesso, o algoritmo aumenta o limite de profundidade em uma unidade."
   ]
  },
  {
   "cell_type": "code",
   "execution_count": 141,
   "metadata": {},
   "outputs": [
    {
     "data": {
      "text/plain": [
       "((25, 21, 23, 22, 21), 7)"
      ]
     },
     "execution_count": 141,
     "metadata": {},
     "output_type": "execute_result"
    }
   ],
   "source": [
    "def iddfs_search(initial_state):\n",
    "    depth = 0\n",
    "    while True:\n",
    "        result, cost = dls_search(initial_state, depth)\n",
    "        if result:\n",
    "            return result, cost\n",
    "        depth += 1\n",
    "\n",
    "def dls_search(initial_state, depth_limit):\n",
    "    frontier = deque([(initial_state, 0)])\n",
    "    explored = set()\n",
    "\n",
    "    while frontier:\n",
    "        current_state, current_cost = frontier.pop()\n",
    "\n",
    "        if is_goal(current_state):\n",
    "            return current_state, current_cost\n",
    "\n",
    "        if current_state not in explored and current_cost < depth_limit:\n",
    "            explored.add(current_state)\n",
    "            successors = get_successors(current_state)\n",
    "\n",
    "            for state in successors:\n",
    "                if state not in explored:\n",
    "                    cost = current_cost + 1  # Uniform cost\n",
    "                    frontier.append((state, cost))\n",
    "\n",
    "    return None, None  # No solution found\n",
    "\n",
    "iddfs_search(initial_state)\n"
   ]
  },
  {
   "cell_type": "markdown",
   "metadata": {},
   "source": [
    "### Busca A*\n",
    "Nesse algoritmo, o A* utiliza uma função de estimativa, que consiste na soma do custo do caminho percorrido até o momento com uma função heurística \\(f(n) = g(n) + h(n)\\). Essa abordagem pode ser interpretada como o custo total da solução, priorizando a expansão do nó com o menor valor de \\(f(n)\\) primeiro."
   ]
  },
  {
   "cell_type": "code",
   "execution_count": 143,
   "metadata": {},
   "outputs": [
    {
     "data": {
      "text/plain": [
       "((25, 21, 23, 22, 21), 7)"
      ]
     },
     "execution_count": 143,
     "metadata": {},
     "output_type": "execute_result"
    }
   ],
   "source": [
    "# best-first search algorithm that uses a heuristic to determine the order in which nodes are expanded\n",
    "\n",
    "import heapq\n",
    "\n",
    "def a_star_search(initial_state):\n",
    "    frontier = []\n",
    "    heapq.heappush(frontier, (heuristic(initial_state), initial_state, 0))\n",
    "    explored = set()\n",
    "    \n",
    "    while frontier:\n",
    "        _, current_state, current_cost = heapq.heappop(frontier)\n",
    "        \n",
    "        if is_goal(current_state):\n",
    "            return current_state, current_cost\n",
    "        \n",
    "        if current_state not in explored:\n",
    "            explored.add(current_state)\n",
    "            successors = get_successors(current_state)\n",
    "            \n",
    "            for state in successors:\n",
    "                if state not in explored:\n",
    "                    cost = current_cost + 1  # Uniform cost\n",
    "                    heapq.heappush(frontier, (cost + heuristic(state), state, cost))\n",
    "                    \n",
    "    return None, None  # No solution found\n",
    "\n",
    "# Initial state with the elevators stopped on floors\n",
    "initial_state = (17, 26, 20, 19, 31)\n",
    "a_star_search(initial_state)\n"
   ]
  },
  {
   "cell_type": "markdown",
   "metadata": {},
   "source": [
    "\n",
    "## Resultados\n",
    "\n",
    "Os algoritmos foram testados com um estado inicial e um estado objetivo pré-definidos. Os resultados obtidos foram comparados em termos de tempo de execução e número de estados explorados."
   ]
  },
  {
   "cell_type": "code",
   "execution_count": 200,
   "metadata": {},
   "outputs": [
    {
     "ename": "ImportError",
     "evalue": "cannot import name 'state' from 'src.heuristics' (c:\\Users\\ProlRayder\\Desktop\\GitHub\\elevators-logic\\src\\heuristics.py)",
     "output_type": "error",
     "traceback": [
      "\u001b[1;31m---------------------------------------------------------------------------\u001b[0m",
      "\u001b[1;31mImportError\u001b[0m                               Traceback (most recent call last)",
      "Cell \u001b[1;32mIn[200], line 3\u001b[0m\n\u001b[0;32m      1\u001b[0m \u001b[38;5;28;01mfrom\u001b[39;00m \u001b[38;5;21;01msrc\u001b[39;00m\u001b[38;5;21;01m.\u001b[39;00m\u001b[38;5;21;01mstructure\u001b[39;00m \u001b[38;5;28;01mimport\u001b[39;00m \u001b[38;5;241m*\u001b[39m\n\u001b[0;32m      2\u001b[0m \u001b[38;5;28;01mfrom\u001b[39;00m \u001b[38;5;21;01msrc\u001b[39;00m\u001b[38;5;21;01m.\u001b[39;00m\u001b[38;5;21;01mlevels\u001b[39;00m \u001b[38;5;28;01mimport\u001b[39;00m Level1\n\u001b[1;32m----> 3\u001b[0m \u001b[38;5;28;01mfrom\u001b[39;00m \u001b[38;5;21;01msrc\u001b[39;00m\u001b[38;5;21;01m.\u001b[39;00m\u001b[38;5;21;01mheuristics\u001b[39;00m \u001b[38;5;28;01mimport\u001b[39;00m state\n\u001b[0;32m      5\u001b[0m \u001b[38;5;28;01mfrom\u001b[39;00m \u001b[38;5;21;01msrc\u001b[39;00m\u001b[38;5;21;01m.\u001b[39;00m\u001b[38;5;21;01msearch_algorithms\u001b[39;00m \u001b[38;5;28;01mimport\u001b[39;00m A_search\n",
      "\u001b[1;31mImportError\u001b[0m: cannot import name 'state' from 'src.heuristics' (c:\\Users\\ProlRayder\\Desktop\\GitHub\\elevators-logic\\src\\heuristics.py)"
     ]
    }
   ],
   "source": [
    "from src.structure import *\n",
    "from src.levels import Level1\n",
    "from src.heuristics import *\n",
    "\n",
    "from src.search_algorithms import A_search\n",
    "\n",
    "# Executando a busca no nível 1\n",
    "# initial_state = Level1.difficulty_level()\n"
   ]
  },
  {
   "cell_type": "markdown",
   "metadata": {},
   "source": [
    "## Conclusão\n",
    "\n",
    "Os algoritmos de busca implementados mostraram-se eficientes na resolução do problema de encontrar uma sequência de ações para os elevadores. Cada algoritmo possui suas vantagens e desvantagens, e a escolha do algoritmo mais adequado depende do contexto e dos requisitos do problema.\n",
    "\n"
   ]
  },
  {
   "cell_type": "code",
   "execution_count": null,
   "metadata": {},
   "outputs": [],
   "source": []
  }
 ],
 "metadata": {
  "kernelspec": {
   "display_name": "Python 3",
   "language": "python",
   "name": "python3"
  },
  "language_info": {
   "codemirror_mode": {
    "name": "ipython",
    "version": 3
   },
   "file_extension": ".py",
   "mimetype": "text/x-python",
   "name": "python",
   "nbconvert_exporter": "python",
   "pygments_lexer": "ipython3",
   "version": "3.11.7"
  }
 },
 "nbformat": 4,
 "nbformat_minor": 2
}
